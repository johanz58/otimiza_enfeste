{
 "cells": [
  {
   "cell_type": "markdown",
   "id": "221fe5e4",
   "metadata": {},
   "source": [
    "#### 1) Método de algum modelo de otimização"
   ]
  },
  {
   "cell_type": "code",
   "execution_count": 6,
   "id": "7de7b7c4",
   "metadata": {},
   "outputs": [
    {
     "name": "stdout",
     "output_type": "stream",
     "text": [
      "Welcome to the CBC MILP Solver \n",
      "Version: 2.10.3 \n",
      "Build Date: Dec 15 2019 \n",
      "\n",
      "command line - /home/wilmer/env-julian/lib/python3.10/site-packages/pulp/solverdir/cbc/linux/64/cbc /tmp/690b3e20c5664636a091eea590c96b1c-pulp.mps -timeMode elapsed -branch -printingOptions all -solution /tmp/690b3e20c5664636a091eea590c96b1c-pulp.sol (default strategy 1)\n",
      "At line 2 NAME          MODEL\n",
      "At line 3 ROWS\n",
      "At line 11 COLUMNS\n",
      "At line 52 RHS\n",
      "At line 59 BOUNDS\n",
      "At line 68 ENDATA\n",
      "Problem MODEL has 6 rows, 8 columns and 16 elements\n",
      "Coin0008I MODEL read with 0 errors\n",
      "Option for timeMode changed from cpu to elapsed\n",
      "Continuous objective value is 42.0667 - 0.00 seconds\n",
      "Cgl0003I 0 fixed, 0 tightened bounds, 1 strengthened rows, 0 substitutions\n",
      "Cgl0003I 0 fixed, 0 tightened bounds, 1 strengthened rows, 0 substitutions\n",
      "Cgl0003I 0 fixed, 0 tightened bounds, 1 strengthened rows, 0 substitutions\n",
      "Cgl0003I 0 fixed, 0 tightened bounds, 1 strengthened rows, 0 substitutions\n",
      "Cgl0004I processed model has 0 rows, 0 columns (0 integer (0 of which binary)) and 0 elements\n",
      "Cbc3007W No integer variables - nothing to do\n",
      "Cuts at root node changed objective from 43 to -1.79769e+308\n",
      "Probing was tried 0 times and created 0 cuts of which 0 were active after adding rounds of cuts (0.000 seconds)\n",
      "Gomory was tried 0 times and created 0 cuts of which 0 were active after adding rounds of cuts (0.000 seconds)\n",
      "Knapsack was tried 0 times and created 0 cuts of which 0 were active after adding rounds of cuts (0.000 seconds)\n",
      "Clique was tried 0 times and created 0 cuts of which 0 were active after adding rounds of cuts (0.000 seconds)\n",
      "MixedIntegerRounding2 was tried 0 times and created 0 cuts of which 0 were active after adding rounds of cuts (0.000 seconds)\n",
      "FlowCover was tried 0 times and created 0 cuts of which 0 were active after adding rounds of cuts (0.000 seconds)\n",
      "TwoMirCuts was tried 0 times and created 0 cuts of which 0 were active after adding rounds of cuts (0.000 seconds)\n",
      "ZeroHalf was tried 0 times and created 0 cuts of which 0 were active after adding rounds of cuts (0.000 seconds)\n",
      "\n",
      "Result - Optimal solution found\n",
      "\n",
      "Objective value:                43.00000000\n",
      "Enumerated nodes:               0\n",
      "Total iterations:               0\n",
      "Time (CPU seconds):             0.00\n",
      "Time (Wallclock seconds):       0.00\n",
      "\n",
      "Option for printingOptions changed from normal to all\n",
      "Total time (CPU seconds):       0.00   (Wallclock seconds):       0.00\n",
      "\n",
      "Máquina 1: [14, 12, 10]\n",
      "Máquina 2: [7]\n",
      "Tempo total de processamento: 36\n"
     ]
    }
   ],
   "source": [
    "from pulp import LpProblem, LpVariable, LpMinimize, lpSum, LpMaximize\n",
    "\n",
    "def programacao_producao(ordens, tempos_setup):\n",
    "    # Cria o problema de minimização\n",
    "    prob = LpProblem(\"ProgramacaoProducao\", LpMinimize)\n",
    "    \n",
    "    # Variáveis de decisão binárias indicando se a ordem i é atribuída à máquina j\n",
    "    x = {(i, j): LpVariable(f'x_{i}_{j}', cat='Binary') for i in range(len(ordens)) for j in range(2)}\n",
    "    \n",
    "    # Função objetivo: minimizar o tempo total de processamento (e setup)\n",
    "    #prob += lpSum(ordens[i] * x[(i, j)] for i in range(len(ordens)) for j in range(2))\n",
    "    prob += lpSum((ordens[i] + tempos_setup[j]) * x[(i, j)] for i in range(len(ordens)) for j in range(2))\n",
    "    \n",
    "    # Restrições: cada ordem deve ser atribuída a exatamente uma máquina\n",
    "    for i in range(len(ordens)):\n",
    "        prob += lpSum(x[(i, j)] for j in range(2)) == 1\n",
    "    \n",
    "    # Restrições: cada máquina deve estar ocupada\n",
    "    for j in range(2):\n",
    "        #prob += lpSum(ordens[i] * x[(i, j)] for i in range(len(ordens))) >= 1\n",
    "        prob += lpSum((ordens[i] + tempos_setup[j]) * x[(i, j)] for i in range(len(ordens))) >= 1\n",
    "    \n",
    "    # Resolve o problema\n",
    "    prob.solve()\n",
    "    \n",
    "    # Obtém os resultados\n",
    "    maquina1 = [ordens[i]+tempos_setup[0] for i in range(len(ordens)) if x[(i, 0)].value() == 1]\n",
    "    maquina2 = [ordens[i]+tempos_setup[1] for i in range(len(ordens)) if x[(i, 1)].value() == 1]\n",
    "    \n",
    "    # Calcula o tempo total de processamento\n",
    "    tempo_total = max(sum(maquina1), sum(maquina2))\n",
    "    #tempo_total = max(sum(maquina1 + tempos_setup[0], sum(maquina2) + tempos_setup[1])\n",
    "    \n",
    "    # Retorna as programações e o tempo total\n",
    "    return maquina1, maquina2, tempo_total\n",
    "\n",
    "# Exemplo de ordens de operação com tempos de processamento em cada máquina\n",
    "ordens = [12, 10, 8, 4]\n",
    "\n",
    "# Exemplo de tempos de setup para cada máquina\n",
    "tempos_setup = [2, 3]\n",
    "\n",
    "# Chamada da função para realizar a programação de produção\n",
    "maquina1, maquina2, tempo_total = programacao_producao(ordens, tempos_setup)\n",
    "\n",
    "\n",
    "# Exibe os resultados\n",
    "print(\"Máquina 1:\", maquina1)\n",
    "print(\"Máquina 2:\", maquina2)\n",
    "print(\"Tempo total de processamento:\", tempo_total)\n"
   ]
  },
  {
   "cell_type": "markdown",
   "id": "7dba058a",
   "metadata": {},
   "source": [
    "#### 2) Método heurístico de solução"
   ]
  },
  {
   "cell_type": "code",
   "execution_count": 3,
   "id": "b23d7eb5",
   "metadata": {},
   "outputs": [
    {
     "name": "stdout",
     "output_type": "stream",
     "text": [
      "Máquina 1: [14, 6]\n",
      "Máquina 2: [13, 11]\n",
      "Tempo total de processamento: 24\n"
     ]
    }
   ],
   "source": [
    "def programacao_producao(ordens, ts):\n",
    "    # Inicializa as máquinas\n",
    "    maquina1 = []\n",
    "    maquina2 = []\n",
    "    \n",
    "    # Loop através das ordens de operação\n",
    "    for ordem in ordens:\n",
    "        \n",
    "        # Atribui a ordem à máquina com menor tempo total\n",
    "        if sum(maquina1) <= sum(maquina2):\n",
    "            maquina1.append(ordem + ts[0])\n",
    "        else:\n",
    "            maquina2.append(ordem + ts[1])\n",
    "    \n",
    "    # Calcula o tempo total de processamento\n",
    "    tempo_total = max(sum(maquina1), sum(maquina2))\n",
    "    \n",
    "    # Retorna as programações e o tempo total\n",
    "    return maquina1, maquina2, tempo_total\n",
    "\n",
    "# Exemplo de ordens de operação com tempos de processamento em cada máquina\n",
    "ordens = [12, 10, 8, 4]\n",
    "# tempo de setups das máquinas\n",
    "ts = [2, 3] \n",
    "\n",
    "# Chamada da função para realizar a programação de produção\n",
    "maquina1, maquina2, tempo_total = programacao_producao(ordens, ts)\n",
    "\n",
    "# Exibe os resultados\n",
    "print(\"Máquina 1:\", maquina1)\n",
    "print(\"Máquina 2:\", maquina2)\n",
    "print(\"Tempo total de processamento:\", tempo_total)\n"
   ]
  },
  {
   "cell_type": "code",
   "execution_count": null,
   "id": "292a1029",
   "metadata": {},
   "outputs": [],
   "source": []
  }
 ],
 "metadata": {
  "kernelspec": {
   "display_name": "Python 3 (ipykernel)",
   "language": "python",
   "name": "python3"
  },
  "language_info": {
   "codemirror_mode": {
    "name": "ipython",
    "version": 3
   },
   "file_extension": ".py",
   "mimetype": "text/x-python",
   "name": "python",
   "nbconvert_exporter": "python",
   "pygments_lexer": "ipython3",
   "version": "3.10.12"
  }
 },
 "nbformat": 4,
 "nbformat_minor": 5
}
