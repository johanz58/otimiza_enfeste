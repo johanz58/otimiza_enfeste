{
 "cells": [
  {
   "cell_type": "code",
   "execution_count": 1,
   "id": "b23d7eb5",
   "metadata": {},
   "outputs": [
    {
     "name": "stdout",
     "output_type": "stream",
     "text": [
      "Máquina 1: [14, 6]\n",
      "Máquina 2: [13, 11]\n",
      "Tempo total de processamento: 24\n"
     ]
    }
   ],
   "source": [
    "def programacao_producao(ordens, ts1, ts2):\n",
    "    # Inicializa as máquinas\n",
    "    maquina1 = []\n",
    "    maquina2 = []\n",
    "    \n",
    "    # Loop através das ordens de operação\n",
    "    for ordem in ordens:\n",
    "        # Atribui a ordem à máquina com menor tempo total\n",
    "        if sum(maquina1) <= sum(maquina2):\n",
    "            maquina1.append(ordem + ts1)\n",
    "        else:\n",
    "            maquina2.append(ordem + ts2)\n",
    "    \n",
    "    # Calcula o tempo total de processamento\n",
    "    tempo_total = max(sum(maquina1), sum(maquina2))\n",
    "    \n",
    "    # Retorna as programações e o tempo total\n",
    "    return maquina1, maquina2, tempo_total\n",
    "\n",
    "# Exemplo de ordens de operação com tempos de processamento em cada máquina\n",
    "ordens = [12, 10, 8, 4]\n",
    "ts1 = 2\n",
    "ts2 = 3\n",
    "\n",
    "# Chamada da função para realizar a programação de produção\n",
    "maquina1, maquina2, tempo_total = programacao_producao(ordens, ts1, ts2)\n",
    "\n",
    "# Exibe os resultados\n",
    "print(\"Máquina 1:\", maquina1)\n",
    "print(\"Máquina 2:\", maquina2)\n",
    "print(\"Tempo total de processamento:\", tempo_total)\n"
   ]
  },
  {
   "cell_type": "code",
   "execution_count": null,
   "id": "292a1029",
   "metadata": {},
   "outputs": [],
   "source": []
  }
 ],
 "metadata": {
  "kernelspec": {
   "display_name": "Python 3 (ipykernel)",
   "language": "python",
   "name": "python3"
  },
  "language_info": {
   "codemirror_mode": {
    "name": "ipython",
    "version": 3
   },
   "file_extension": ".py",
   "mimetype": "text/x-python",
   "name": "python",
   "nbconvert_exporter": "python",
   "pygments_lexer": "ipython3",
   "version": "3.10.12"
  }
 },
 "nbformat": 4,
 "nbformat_minor": 5
}
